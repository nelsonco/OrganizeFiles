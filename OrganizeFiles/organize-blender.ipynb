{
 "cells": [
  {
   "cell_type": "code",
   "execution_count": 1,
   "id": "14cd82ab",
   "metadata": {},
   "outputs": [],
   "source": [
    "import os"
   ]
  },
  {
   "cell_type": "code",
   "execution_count": 5,
   "id": "7ca651a8",
   "metadata": {},
   "outputs": [
    {
     "name": "stdout",
     "output_type": "stream",
     "text": [
      "BLEND\n",
      "BLEND1\n",
      "Blender+Guru+-+Teddy+Bear.blend\n",
      "Blender+Guru+-+Teddy+Bear.blend1\n",
      "CCO_Male_base_mesh_standing.blend\n",
      "dikhololo_night_4k.exr\n",
      "EXR\n",
      "FBX\n",
      "kiara_9_dusk_4k.exr\n",
      "MTL\n",
      "OBJ\n",
      "palermo_sidewalk_4k.exr\n",
      "pink_sunrise_4k.exr\n",
      "shanghai_bund_4k.exr\n",
      "uploads_files_1845958_Bathroom(1).mtl\n",
      "uploads_files_1845958_Bathroom(1).obj\n",
      "uploads_files_1935814_Smart+TV.FBX\n",
      "uploads_files_2320198_coffe-table.blend\n",
      "uploads_files_2477716_rug.obj\n",
      "uploads_files_2624941_Stockholm+mirror.blend\n",
      "uploads_files_2659455_AlphaB2B+STANDARTTVVEGE+-+Tv+Unit.blend\n",
      "uploads_files_2659455_AlphaB2B+STANDARTTVVEGE+-+Tv+Unit_fbx.fbx\n",
      "uploads_files_2772434_Couch_Textured.blend\n",
      "uploads_files_311090_chair.FBX\n",
      "venice_dawn_1_4k.exr\n",
      "victor.blend\n",
      "victor.blend1\n"
     ]
    }
   ],
   "source": [
    "# Parent Directory\n",
    "parent_dir = \"C:/Users/Court/Downloads/Blender\"\n",
    "dir_list = os.listdir(parent_dir)\n",
    "\n",
    "types = [\"blend\",\"FBX\",\"obj\",\"fbx\",\"blend1\",\"exr\",\"mtl\"]\n",
    "for folder in types:\n",
    "    folder = folder.upper()\n",
    "    if folder not in dir_list:\n",
    "        path = os.path.join(parent_dir,folder)\n",
    "        os.mkdir(path)\n",
    "            "
   ]
  },
  {
   "cell_type": "code",
   "execution_count": 13,
   "id": "3f5f2588",
   "metadata": {},
   "outputs": [],
   "source": [
    "for file in dir_list:\n",
    "    if os.path.isfile(parent_dir +\"/\"+ file):\n",
    "        for typ in types:\n",
    "            if file.endswith('.'+typ):\n",
    "                orig_path = parent_dir +\"/\"+ file\n",
    "                new_path = parent_dir +\"/\"+typ.upper()+\"/\"+ file\n",
    "                os.rename(orig_path, new_path)"
   ]
  },
  {
   "cell_type": "code",
   "execution_count": 10,
   "id": "49d571a1",
   "metadata": {},
   "outputs": [
    {
     "name": "stdout",
     "output_type": "stream",
     "text": [
      "C:/Users/Court/Downloads/Blender\\MTL/victor.blend1\n"
     ]
    }
   ],
   "source": [
    "print(path +\"/\"+ file)"
   ]
  },
  {
   "cell_type": "code",
   "execution_count": null,
   "id": "ff738049",
   "metadata": {},
   "outputs": [],
   "source": []
  }
 ],
 "metadata": {
  "kernelspec": {
   "display_name": "Python 3",
   "language": "python",
   "name": "python3"
  },
  "language_info": {
   "codemirror_mode": {
    "name": "ipython",
    "version": 3
   },
   "file_extension": ".py",
   "mimetype": "text/x-python",
   "name": "python",
   "nbconvert_exporter": "python",
   "pygments_lexer": "ipython3",
   "version": "3.8.8"
  }
 },
 "nbformat": 4,
 "nbformat_minor": 5
}
