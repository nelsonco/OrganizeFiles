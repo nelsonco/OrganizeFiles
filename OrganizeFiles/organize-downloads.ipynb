{
 "cells": [
  {
   "cell_type": "markdown",
   "id": "a1020ad7",
   "metadata": {},
   "source": [
    "## Simple Program For Organizing the Files in My Dowloads Folder"
   ]
  },
  {
   "cell_type": "code",
   "execution_count": 1,
   "id": "8879238a",
   "metadata": {},
   "outputs": [],
   "source": [
    "import os"
   ]
  },
  {
   "cell_type": "code",
   "execution_count": 60,
   "id": "7856453f",
   "metadata": {},
   "outputs": [],
   "source": [
    "# Parent Directory\n",
    "parent_dir = \"C:/Users/Court/Downloads/\"\n",
    "dir_list = os.listdir(parent_dir)\n",
    "\n",
    "types = {\n",
    "    'Images' : [\"ai\",\"bmp\",\"gif\",\"ico\",\"jpeg\",\"jpg\",\"png\",\"ps\",\"psd\",\"svg\",\"tif\",\"tiff\",\"JPG\",\"jfif\",\"CR2\",\"JPEG\"],\n",
    "    'CompressedFiles' : [\"7z\",\"pkg\",\"rar\",\"tar.gz\",\"z\",\"zip\"],\n",
    "    'PDFDocuments' : [\"pdf\"],\n",
    "    'WordDocuments' : [\"doc\",\"docx\",\"tex\",\"txt\"],\n",
    "    'Database' : [\"xls\",\"xlsm\",\"xlsx\",\"csv\",\"dat\",\"log\",\"sql\",\"tar\",\"json\",\"xml\"],\n",
    "    'Executable' : [\"bat\",\"exe\",\"jar\",\"msi\"],\n",
    "    'ProgrammingFiles' : [\"c\",\"cpp\",\"cs\",\"h\",\"java\",\"php\",\"py\",\"sh\",\"vb\",\"css\",\"js\",\"html\",\"ipynb\"],\n",
    "    'Blender' : [\"blend\",\"FBX\",\"obj\",\"fbx\",\"blend1\",\"exr\",\"mtl\"],\n",
    "    'Presentations' : [\"ppt\",\"pptx\"],\n",
    "    'Media' : [\"wav\", \"dualcast\",\"mp4\"]\n",
    "}\n",
    "\n"
   ]
  },
  {
   "cell_type": "code",
   "execution_count": 61,
   "id": "1250c69e",
   "metadata": {},
   "outputs": [],
   "source": [
    "for folder in types.keys():\n",
    "    if folder not in dir_list:\n",
    "        path = os.path.join(parent_dir,folder)\n",
    "        os.mkdir(path)"
   ]
  },
  {
   "cell_type": "code",
   "execution_count": 62,
   "id": "f4face91",
   "metadata": {},
   "outputs": [],
   "source": [
    "dir_list = os.listdir(parent_dir)\n",
    "\n",
    "for file in dir_list:\n",
    "    try:\n",
    "        for key, values in types.items():\n",
    "            for val in values:\n",
    "                if file.endswith('.'+val):\n",
    "                    orig_path = os.path.join(parent_dir,file)\n",
    "                    new_path = os.path.join(parent_dir,key)\n",
    "                    new_path = new_path+\"/\"+file\n",
    "                    os.rename(orig_path, new_path)\n",
    "                    break\n",
    "    except:\n",
    "        print(file + \" could not be moved.\")\n",
    "            \n",
    "                \n",
    "        "
   ]
  }
 ],
 "metadata": {
  "kernelspec": {
   "display_name": "Python 3",
   "language": "python",
   "name": "python3"
  },
  "language_info": {
   "codemirror_mode": {
    "name": "ipython",
    "version": 3
   },
   "file_extension": ".py",
   "mimetype": "text/x-python",
   "name": "python",
   "nbconvert_exporter": "python",
   "pygments_lexer": "ipython3",
   "version": "3.8.8"
  }
 },
 "nbformat": 4,
 "nbformat_minor": 5
}
